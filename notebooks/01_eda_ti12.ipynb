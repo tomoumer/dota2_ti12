{
 "cells": [
  {
   "cell_type": "markdown",
   "metadata": {},
   "source": [
    "# Dota 2 TI 12\n",
    "\n",
    "October 27 - 29, Seattle, Climate Pledge Arena"
   ]
  },
  {
   "cell_type": "code",
   "execution_count": 21,
   "metadata": {},
   "outputs": [],
   "source": [
    "import pandas as pd\n",
    "import numpy as np\n",
    "import seaborn as sns\n",
    "\n",
    "import scipy.stats as st"
   ]
  },
  {
   "cell_type": "markdown",
   "metadata": {},
   "source": [
    "## Get The Data\n",
    "\n",
    "Started with obtaining all the [premium matches from datdota](https://datdota.com/matches?tier=premium) as a CSV."
   ]
  },
  {
   "cell_type": "code",
   "execution_count": 2,
   "metadata": {},
   "outputs": [],
   "source": [
    "premium_matches = pd.read_csv('../data/premium_matches.csv')"
   ]
  },
  {
   "cell_type": "code",
   "execution_count": 3,
   "metadata": {},
   "outputs": [
    {
     "name": "stdout",
     "output_type": "stream",
     "text": [
      "<class 'pandas.core.frame.DataFrame'>\n",
      "RangeIndex: 2500 entries, 0 to 2499\n",
      "Data columns (total 13 columns):\n",
      " #   Column           Non-Null Count  Dtype  \n",
      "---  ------           --------------  -----  \n",
      " 0   Match ID         2500 non-null   int64  \n",
      " 1   Series           2485 non-null   float64\n",
      " 2   League           2500 non-null   int64  \n",
      " 3   Start Date/Time  2500 non-null   object \n",
      " 4   Match Length     2500 non-null   object \n",
      " 5   Duration (secs)  2500 non-null   int64  \n",
      " 6   Kills Score      2500 non-null   object \n",
      " 7   Unnamed: 7       2500 non-null   object \n",
      " 8   Winner           2500 non-null   object \n",
      " 9   Radiant Team     2500 non-null   object \n",
      " 10  Radiant Players  2500 non-null   object \n",
      " 11  Dire Team        2500 non-null   object \n",
      " 12  Dire Players     2500 non-null   object \n",
      "dtypes: float64(1), int64(3), object(9)\n",
      "memory usage: 254.0+ KB\n"
     ]
    }
   ],
   "source": [
    "premium_matches.info()"
   ]
  },
  {
   "cell_type": "markdown",
   "metadata": {},
   "source": [
    "First thing, convert Start Date/Time to datetime and then select the 'league' `15728` (TI 12).\n",
    "\n",
    "Found out that some times are off (like 6:00 instead of 18:00). As a first pass, I decided to just look at the games played during the finals weekend. So October 27 - 29, Seattle, Climate Pledge Arena. That was a total of 10 series and I simply identified them by day."
   ]
  },
  {
   "cell_type": "code",
   "execution_count": 4,
   "metadata": {},
   "outputs": [],
   "source": [
    "premium_matches['Start Date/Time'] = pd.to_datetime(premium_matches['Start Date/Time'])\n",
    "\n",
    "premium_matches = premium_matches.loc[premium_matches['League'] == 15728]"
   ]
  },
  {
   "cell_type": "code",
   "execution_count": 5,
   "metadata": {},
   "outputs": [],
   "source": [
    "#premium_matches['Start Date/Time'].dt.date.unique()\n",
    "\n",
    "# # note there's no events yet after 10/29\n",
    "# finals_start = premium_matches['Start Date/Time'] >= pd.to_datetime('2023-10-27')\n",
    "# finals_end = premium_matches['Start Date/Time'] <= pd.to_datetime('2023-10-29')"
   ]
  },
  {
   "cell_type": "code",
   "execution_count": 6,
   "metadata": {},
   "outputs": [],
   "source": [
    "premium_matches.loc[premium_matches['Series'].isin([819833, 819879, 819908, 819927]), 'Match Day'] = 'Friday'\n",
    "premium_matches.loc[premium_matches['Series'].isin([820160, 820236, 820265, 820276]), 'Match Day'] = 'Saturday'\n",
    "premium_matches.loc[premium_matches['Series'].isin([820513, 820565]), 'Match Day'] = 'Sunday'"
   ]
  },
  {
   "cell_type": "code",
   "execution_count": 7,
   "metadata": {},
   "outputs": [],
   "source": [
    "finals_matches = premium_matches.dropna(subset='Match Day').copy()"
   ]
  },
  {
   "cell_type": "markdown",
   "metadata": {},
   "source": [
    "## Explore the data"
   ]
  },
  {
   "cell_type": "code",
   "execution_count": 8,
   "metadata": {},
   "outputs": [
    {
     "name": "stdout",
     "output_type": "stream",
     "text": [
      "Total Matches over the weekend: 24\n",
      "Friday       9\n",
      "Saturday    10\n",
      "Sunday       5\n",
      "Name: Match Day, dtype: int64\n"
     ]
    }
   ],
   "source": [
    "print('Total Matches over the weekend:', len(finals_matches))\n",
    "print(finals_matches['Match Day'].value_counts().sort_index())"
   ]
  },
  {
   "cell_type": "code",
   "execution_count": 9,
   "metadata": {},
   "outputs": [
    {
     "name": "stdout",
     "output_type": "stream",
     "text": [
      "min games that could be played 21\n",
      "max games that could be played 32\n"
     ]
    }
   ],
   "source": [
    "print('min games that could be played', 9*2 + 3)\n",
    "print('max games that could be played', 9*3 + 5)"
   ]
  },
  {
   "cell_type": "markdown",
   "metadata": {},
   "source": [
    "Once I did this part I got curious as to what were the odds of there being 24 games. And so why not simulate it using Monte Carlo techniques?"
   ]
  },
  {
   "cell_type": "code",
   "execution_count": 10,
   "metadata": {},
   "outputs": [],
   "source": [
    "teams_list = ['Team Spirit', 'Team Liquid', 'LGD Gaming', 'Azure Ray',\n",
    "              'nouns', 'Gaimin Gladiators', 'BetBoom Team', 'Virtus.pro']"
   ]
  },
  {
   "cell_type": "markdown",
   "metadata": {},
   "source": [
    "The idea is now to simulate each part of the tournament, as it unfolded. Assumptions:\n",
    "- Start with slightly imbalanced win probability, at 53% plus or minus 2% (sigma)\n",
    "- Each game is independent; could be because of hero picks (better/worst drafts, more comfortable), or because one team gets into the headspace of the other\n",
    "\n",
    "possible extensions: \n",
    "- do the actual bracket\n",
    "- games within series affect win probability for next one (+morale)"
   ]
  },
  {
   "cell_type": "code",
   "execution_count": 12,
   "metadata": {},
   "outputs": [],
   "source": [
    "# to simulate multiple turnaments\n",
    "sim_num = 100000\n",
    "simulations = []\n",
    "\n",
    "for sim in range(sim_num):\n",
    "\n",
    "    # reset variables in each sim\n",
    "    series = [0, 0]\n",
    "    series_win = 2\n",
    "    series_num = 1\n",
    "    tournament = []\n",
    "\n",
    "    # simulate new win probabilities for each tournament (10 series)\n",
    "    win_prob1 = np.random.normal(0.53, 0.02, 10)\n",
    "    win_prob2 = 1 - win_prob1\n",
    "\n",
    "    while True:\n",
    "\n",
    "        # for the finals, 3 wins are needed for series\n",
    "        if series_num == 10:\n",
    "            series_win = 3\n",
    "\n",
    "        # select 0 (first team wins) or 1 (second team wins)\n",
    "        team_win = np.random.choice([0,1], p=[win_prob1[series_num - 1], win_prob2[series_num - 1]])\n",
    "\n",
    "        # add a point in the series for winning team\n",
    "        series[team_win] += 1\n",
    "\n",
    "        # if the winning team won the series\n",
    "        if series[team_win] == series_win:\n",
    "\n",
    "            # save the series score\n",
    "            tournament.extend(series)\n",
    "\n",
    "            # start new series - aka reset variable\n",
    "            series = [0, 0]\n",
    "\n",
    "            # marks which series is being played\n",
    "            series_num += 1\n",
    "\n",
    "            # end the loop\n",
    "            if series_num == 11:\n",
    "                break\n",
    "    \n",
    "    # add to simulation\n",
    "    simulations.append(tournament)\n"
   ]
  },
  {
   "cell_type": "code",
   "execution_count": 13,
   "metadata": {},
   "outputs": [],
   "source": [
    "#pd.DataFrame(np.array(tournament).reshape(1,-1))\n",
    "simulations_df = pd.DataFrame(simulations)"
   ]
  },
  {
   "cell_type": "code",
   "execution_count": 14,
   "metadata": {},
   "outputs": [],
   "source": [
    "sim_mean = simulations_df.sum(axis=1).mean()\n",
    "sim_std = simulations_df.sum(axis=1).std()\n",
    "\n",
    "# since there were 24 matches\n",
    "Z_observed = (24 - sim_mean) / sim_std"
   ]
  },
  {
   "cell_type": "code",
   "execution_count": 15,
   "metadata": {},
   "outputs": [
    {
     "name": "stdout",
     "output_type": "stream",
     "text": [
      "mean: 26.5974\n",
      "std: 1.6915796920095458\n",
      "Z_obs: -1.5354878119365263\n",
      "=================\n",
      "probability of there being 24 games or less is 6.23%\n"
     ]
    }
   ],
   "source": [
    "print('mean:', sim_mean)\n",
    "print('std:', sim_std)\n",
    "print('Z_obs:', Z_observed)\n",
    "print('=================')\n",
    "print(f'probability of there being 24 games or less is {100* st.norm.cdf(Z_observed):.2f}%')"
   ]
  },
  {
   "cell_type": "markdown",
   "metadata": {},
   "source": [
    "Lucky me, about 6.2% chance that I got to see 24 or less games, lol!"
   ]
  },
  {
   "cell_type": "code",
   "execution_count": 16,
   "metadata": {},
   "outputs": [
    {
     "name": "stdout",
     "output_type": "stream",
     "text": [
      "Time spent watching the games (not including draft or other commentary):\n",
      "0 days 17:36:07\n"
     ]
    }
   ],
   "source": [
    "print('Time spent watching the games (not including draft or other commentary):')\n",
    "print(pd.to_timedelta(f\"{finals_matches['Duration (secs)'].sum()}s\"))"
   ]
  },
  {
   "cell_type": "code",
   "execution_count": 87,
   "metadata": {},
   "outputs": [
    {
     "name": "stdout",
     "output_type": "stream",
     "text": [
      "Average game length: 0 days 00:44:00.291666667\n",
      "Std dev game length: 0 days 00:15:12.931993237\n"
     ]
    }
   ],
   "source": [
    "print('Average game length:', pd.to_timedelta(f\"{finals_matches['Duration (secs)'].mean()}s\"))\n",
    "print('Std dev game length:', pd.to_timedelta(f\"{finals_matches['Duration (secs)'].std()}s\"))"
   ]
  },
  {
   "cell_type": "markdown",
   "metadata": {},
   "source": [
    "Start looking at kills"
   ]
  },
  {
   "cell_type": "code",
   "execution_count": 17,
   "metadata": {},
   "outputs": [],
   "source": [
    "finals_matches[['Radiant Kills', 'Dire Kills']] = finals_matches['Kills Score'].str.split('-', expand=True)\n",
    "\n",
    "finals_matches = finals_matches.drop(columns=['Kills Score', 'Unnamed: 7'])\n",
    "\n",
    "finals_matches['Radiant Kills'] = finals_matches['Radiant Kills'].astype(int)\n",
    "finals_matches['Dire Kills'] = finals_matches['Dire Kills'].astype(int)\n",
    "\n",
    "finals_matches['Total Kills'] = finals_matches['Radiant Kills'] + finals_matches['Dire Kills']"
   ]
  },
  {
   "cell_type": "code",
   "execution_count": 18,
   "metadata": {},
   "outputs": [
    {
     "name": "stdout",
     "output_type": "stream",
     "text": [
      "Radiant kills: 617\n",
      "Dire Kills: 563\n",
      "Total Kills: 1180\n"
     ]
    }
   ],
   "source": [
    "print('Radiant kills:', finals_matches['Radiant Kills'].sum())\n",
    "print('Dire Kills:', finals_matches['Dire Kills'].sum())\n",
    "print('Total Kills:', finals_matches['Total Kills'].sum())"
   ]
  },
  {
   "cell_type": "markdown",
   "metadata": {},
   "source": [
    "The longer the game takes, the more kills there are!"
   ]
  },
  {
   "cell_type": "code",
   "execution_count": 37,
   "metadata": {},
   "outputs": [],
   "source": [
    "finals_matches['Duration (mins)'] = round(finals_matches['Duration (secs)'] / 60, 2)"
   ]
  },
  {
   "cell_type": "code",
   "execution_count": 38,
   "metadata": {},
   "outputs": [
    {
     "data": {
      "image/png": "[encoded data removed]",
      "text/plain": [
       "<Figure size 640x480 with 1 Axes>"
      ]
     },
     "metadata": {},
     "output_type": "display_data"
    }
   ],
   "source": [
    "sns.regplot(data=finals_matches, x='Duration (mins)', y='Total Kills');"
   ]
  },
  {
   "cell_type": "code",
   "execution_count": 71,
   "metadata": {},
   "outputs": [
    {
     "data": {
      "image/png": "[encoded data removed]",
      "text/plain": [
       "<Figure size 640x480 with 1 Axes>"
      ]
     },
     "metadata": {},
     "output_type": "display_data"
    }
   ],
   "source": [
    "sns.barplot(finals_matches, x='Match Day', y='Total Kills', order=['Friday', 'Saturday', 'Sunday']);"
   ]
  },
  {
   "cell_type": "markdown",
   "metadata": {},
   "source": [
    "Also length per day below."
   ]
  },
  {
   "cell_type": "code",
   "execution_count": 74,
   "metadata": {},
   "outputs": [
    {
     "data": {
      "image/png": "[encoded data removed]",
      "text/plain": [
       "<Figure size 640x480 with 1 Axes>"
      ]
     },
     "metadata": {},
     "output_type": "display_data"
    }
   ],
   "source": [
    "sns.barplot(finals_matches, x='Match Day', y='Duration (mins)', order=['Friday', 'Saturday', 'Sunday']);"
   ]
  },
  {
   "cell_type": "markdown",
   "metadata": {},
   "source": [
    "How often does more kills mean the team wins?"
   ]
  },
  {
   "cell_type": "code",
   "execution_count": 47,
   "metadata": {},
   "outputs": [],
   "source": [
    "finals_matches['Kill Difference'] = (\n",
    "    np.where(finals_matches['Radiant Kills'] == finals_matches['Dire Kills'], 'Draw',\n",
    "    np.where(finals_matches['Radiant Kills'] > finals_matches['Dire Kills'], 'Radiant', 'Dire'))\n",
    ")"
   ]
  },
  {
   "cell_type": "markdown",
   "metadata": {},
   "source": [
    "- When Radiant had the most kills, they won 100% of the time\n",
    "- When the kills were equal, the Dire won\n",
    "- When Dire had the most kills, they won 85% of the time"
   ]
  },
  {
   "cell_type": "code",
   "execution_count": 55,
   "metadata": {},
   "outputs": [
    {
     "data": {
      "text/plain": [
       "Kill Difference  Winner \n",
       "Dire             Dire       11\n",
       "                 Radiant     2\n",
       "Draw             Dire        1\n",
       "Radiant          Radiant    10\n",
       "Name: Match ID, dtype: int64"
      ]
     },
     "execution_count": 55,
     "metadata": {},
     "output_type": "execute_result"
    }
   ],
   "source": [
    "finals_matches.groupby(['Kill Difference', 'Winner'])['Match ID'].count()"
   ]
  },
  {
   "cell_type": "code",
   "execution_count": 60,
   "metadata": {},
   "outputs": [
    {
     "name": "stdout",
     "output_type": "stream",
     "text": [
      "Overall, the team that got most kills won 87.5% of time\n"
     ]
    }
   ],
   "source": [
    "print(f\"Overall, the team that got most kills won {100*len(finals_matches.loc[finals_matches['Kill Difference'] == finals_matches['Winner']])/len(finals_matches)}% of time\")\n"
   ]
  },
  {
   "cell_type": "markdown",
   "metadata": {},
   "source": [
    "The next part is just for fun; what's the \"worth\" of various variables?\n",
    "\n",
    "The official price of the tickets was $699, sold with Ticketmaster. Add to that:\n",
    "- $5.55 (Order Processing Fee)\n",
    "- $16.50 (Facility Charge)\n",
    "- $151.45 (Service Fee)\n",
    "- $7.58 (Tax)\n",
    "\n",
    "And the final **actual** cost of tickets was $880.08\n",
    "\n",
    "So let's say that I'm only interested in number of matches, or kills or total runtime; what is the \"cost\" of those? "
   ]
  },
  {
   "cell_type": "code",
   "execution_count": 80,
   "metadata": {},
   "outputs": [
    {
     "name": "stdout",
     "output_type": "stream",
     "text": [
      "How much does it cost ...\n",
      "A Dota 2 game $36.67\n",
      "Each minute of a Dota 2 game $0.83\n",
      "Each kill in a Dota 2 game $0.75\n"
     ]
    }
   ],
   "source": [
    "event_cost = 880.08\n",
    "\n",
    "print('How much does it cost ...')\n",
    "print(f\"A Dota 2 game ${event_cost / len(finals_matches)}\")\n",
    "print(f\"Each minute of a Dota 2 game ${event_cost / finals_matches['Duration (mins)'].sum():.2f}\")\n",
    "print(f\"Each kill in a Dota 2 game ${event_cost / finals_matches['Total Kills'].sum():.2f}\")"
   ]
  },
  {
   "cell_type": "markdown",
   "metadata": {},
   "source": [
    "One final question. Let's say I'm only paying (in my mind) for watching my team. How much will each of the matches they play cost?\n",
    "\n",
    "The two extremes are:\n",
    "- My team looses right away, in a 0:2 and gets eliminated\n",
    "- My team wins all the way to the grand final, each series is a 2:1 and the finals ends in 3:2 (or 2:3, making me highly upset for my team)\n",
    "- it could also happen that my team begins in the upper brackets, loses the first match 1:2 and then continues same as in the point above\n",
    "\n",
    "So at least, they'll play 2 games, at most, 17 which is a massive difference! If we're paying per length of game, that's variable since it can be quite different (44 min +- 15 min); but the average will do here."
   ]
  },
  {
   "cell_type": "code",
   "execution_count": 90,
   "metadata": {},
   "outputs": [
    {
     "name": "stdout",
     "output_type": "stream",
     "text": [
      "max cost per my team game (2 games) is $440.04\n",
      "min cost per my team game (17 games) is $51.77\n",
      "max cost per minute of my team playing (2 games) is $10.00\n",
      "min cost per minute of team game (17 games) is $1.18\n"
     ]
    }
   ],
   "source": [
    "print(f'max cost per my team game (2 games) is ${event_cost / 2}')\n",
    "print(f'min cost per my team game (17 games) is ${event_cost / 17:.2f}')\n",
    "print(f'max cost per minute of my team playing (2 games) is ${event_cost / (2 * finals_matches[\"Duration (mins)\"].mean()):.2f}')\n",
    "print(f'min cost per minute of team game (17 games) is ${event_cost / (17 * finals_matches[\"Duration (mins)\"].mean()):.2f}')"
   ]
  },
  {
   "cell_type": "code",
   "execution_count": null,
   "metadata": {},
   "outputs": [],
   "source": []
  }
 ],
 "metadata": {
  "kernelspec": {
   "display_name": "base",
   "language": "python",
   "name": "python3"
  },
  "language_info": {
   "codemirror_mode": {
    "name": "ipython",
    "version": 3
   },
   "file_extension": ".py",
   "mimetype": "text/x-python",
   "name": "python",
   "nbconvert_exporter": "python",
   "pygments_lexer": "ipython3",
   "version": "3.11.4"
  },
  "orig_nbformat": 4
 },
 "nbformat": 4,
 "nbformat_minor": 2
}
